{
 "cells": [
  {
   "cell_type": "markdown",
   "metadata": {},
   "source": [
    "# PyMongo Tutorial"
   ]
  },
  {
   "cell_type": "markdown",
   "metadata": {},
   "source": [
    "### 1. Connect to a database"
   ]
  },
  {
   "cell_type": "code",
   "execution_count": 4,
   "metadata": {
    "collapsed": false
   },
   "outputs": [
    {
     "name": "stdout",
     "output_type": "stream",
     "text": [
      "MongoClient(host=['localhost:27017'], document_class=dict, tz_aware=False, connect=True)\n"
     ]
    }
   ],
   "source": [
    "from pymongo import MongoClient\n",
    "\n",
    "client = MongoClient()\n",
    "\n",
    "print(client)"
   ]
  },
  {
   "cell_type": "markdown",
   "metadata": {},
   "source": [
    "### 2. Three main operations of MongoClient\n",
    "- Check the current database\n",
    "- Create a new database\n",
    "- Delete a database"
   ]
  },
  {
   "cell_type": "code",
   "execution_count": 7,
   "metadata": {
    "collapsed": false
   },
   "outputs": [
    {
     "name": "stdout",
     "output_type": "stream",
     "text": [
      "Current database ['Hanwei', 'RHDHV_Ship_DB', 'admin', 'config', 'local', 'pymongo_test', 'runoobdb', 'zfdb']\n"
     ]
    },
    {
     "name": "stderr",
     "output_type": "stream",
     "text": [
      "c:\\users\\907932\\appdata\\local\\programs\\python\\python37\\lib\\site-packages\\ipykernel_launcher.py:2: DeprecationWarning: database_names is deprecated. Use list_database_names instead.\n",
      "  \n"
     ]
    }
   ],
   "source": [
    "# 列出当前所有数据库名称\n",
    "database_names = client.database_names()\n",
    "print('Current database {}'.format(database_names))\n",
    "# 使用现有数据库，假设已存在数据库，数据库名称为 test_database\n",
    "test_database = client.test_database\n",
    "# 创建不存在的数据库并使用\n",
    "new_database = client.new_database\n",
    "# 删除现有数据库\n",
    "client.drop_database('new_database')"
   ]
  },
  {
   "cell_type": "markdown",
   "metadata": {},
   "source": [
    "### 3. Colloections related operations"
   ]
  },
  {
   "cell_type": "code",
   "execution_count": 13,
   "metadata": {
    "collapsed": false
   },
   "outputs": [
    {
     "name": "stderr",
     "output_type": "stream",
     "text": [
      "c:\\users\\907932\\appdata\\local\\programs\\python\\python37\\lib\\site-packages\\ipykernel_launcher.py:1: DeprecationWarning: collection_names is deprecated. Use list_collection_names instead.\n",
      "  \"\"\"Entry point for launching an IPython kernel.\n"
     ]
    },
    {
     "data": {
      "text/plain": [
       "{'code': 26,\n",
       " 'codeName': 'NamespaceNotFound',\n",
       " 'errmsg': 'ns not found',\n",
       " 'ok': 0.0}"
      ]
     },
     "execution_count": 13,
     "metadata": {},
     "output_type": "execute_result"
    }
   ],
   "source": [
    "collection_names = test_database.collection_names()\n",
    "posts = test_database.posts\n",
    "# create\n",
    "new_collection = test_database.new_collection\n",
    "# delete\n",
    "test_database.drop_collection(new_collection) # argument is the collection object"
   ]
  },
  {
   "cell_type": "markdown",
   "metadata": {},
   "source": [
    "### 4. Add documents to a collection\n",
    "- insert_one\n",
    "- insert-many"
   ]
  },
  {
   "cell_type": "code",
   "execution_count": 17,
   "metadata": {
    "collapsed": false
   },
   "outputs": [
    {
     "name": "stdout",
     "output_type": "stream",
     "text": [
      "{'_id': 0}\n"
     ]
    }
   ],
   "source": [
    "foo = test_database.foo\n",
    "foo.insert_one({'_id': 0})\n",
    "for data in foo.find():\n",
    "    print(data)"
   ]
  },
  {
   "cell_type": "code",
   "execution_count": 19,
   "metadata": {
    "collapsed": false
   },
   "outputs": [
    {
     "name": "stdout",
     "output_type": "stream",
     "text": [
      "{'_id': 0}\n",
      "{'_id': 1}\n",
      "{'_id': 2}\n"
     ]
    }
   ],
   "source": [
    "foo.insert_many([{'_id': 1}, {'_id': 2}])\n",
    "for data in foo.find():\n",
    "  print(data)"
   ]
  },
  {
   "cell_type": "code",
   "execution_count": null,
   "metadata": {
    "collapsed": true
   },
   "outputs": [],
   "source": [
    "### 5. Delete documents from a collection"
   ]
  }
 ],
 "metadata": {
  "kernelspec": {
   "display_name": "Python 3",
   "language": "python",
   "name": "python3"
  },
  "language_info": {
   "codemirror_mode": {
    "name": "ipython",
    "version": 3
   },
   "file_extension": ".py",
   "mimetype": "text/x-python",
   "name": "python",
   "nbconvert_exporter": "python",
   "pygments_lexer": "ipython3",
   "version": "3.7.1"
  }
 },
 "nbformat": 4,
 "nbformat_minor": 2
}
