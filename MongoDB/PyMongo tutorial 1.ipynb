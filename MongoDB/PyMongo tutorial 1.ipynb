{
 "cells": [
  {
   "cell_type": "markdown",
   "metadata": {
    "deletable": true,
    "editable": true
   },
   "source": [
    "# PyMongo Tutorial"
   ]
  },
  {
   "cell_type": "markdown",
   "metadata": {
    "deletable": true,
    "editable": true
   },
   "source": [
    "### 1. Connect to a database"
   ]
  },
  {
   "cell_type": "code",
   "execution_count": 1,
   "metadata": {
    "collapsed": false,
    "deletable": true,
    "editable": true
   },
   "outputs": [
    {
     "name": "stdout",
     "output_type": "stream",
     "text": [
      "MongoClient(host=['localhost:27017'], document_class=dict, tz_aware=False, connect=True)\n"
     ]
    }
   ],
   "source": [
    "from pymongo import MongoClient\n",
    "\n",
    "client = MongoClient()\n",
    "\n",
    "print(client)"
   ]
  },
  {
   "cell_type": "markdown",
   "metadata": {
    "deletable": true,
    "editable": true
   },
   "source": [
    "### 2. Three main operations of MongoClient\n",
    "- Check the current database\n",
    "- Create a new database\n",
    "- Delete a database"
   ]
  },
  {
   "cell_type": "code",
   "execution_count": 2,
   "metadata": {
    "collapsed": false,
    "deletable": true,
    "editable": true
   },
   "outputs": [
    {
     "name": "stdout",
     "output_type": "stream",
     "text": [
      "Current database ['Hanwei', 'RHDHV_Ship_DB', 'admin', 'config', 'local', 'pymongo_test', 'runoobdb', 'test_database', 'zfdb']\n"
     ]
    },
    {
     "name": "stderr",
     "output_type": "stream",
     "text": [
      "c:\\users\\907932\\appdata\\local\\programs\\python\\python37\\lib\\site-packages\\ipykernel_launcher.py:2: DeprecationWarning: database_names is deprecated. Use list_database_names instead.\n",
      "  \n"
     ]
    }
   ],
   "source": [
    "# 列出当前所有数据库名称\n",
    "database_names = client.database_names()\n",
    "print('Current database {}'.format(database_names))\n",
    "# 使用现有数据库，假设已存在数据库，数据库名称为 test_database\n",
    "test_database = client.test_database\n",
    "# 创建不存在的数据库并使用\n",
    "new_database = client.new_database\n",
    "# 删除现有数据库\n",
    "client.drop_database('new_database')"
   ]
  },
  {
   "cell_type": "markdown",
   "metadata": {
    "deletable": true,
    "editable": true
   },
   "source": [
    "### 3. Colloections related operations"
   ]
  },
  {
   "cell_type": "code",
   "execution_count": 3,
   "metadata": {
    "collapsed": false,
    "deletable": true,
    "editable": true
   },
   "outputs": [
    {
     "name": "stderr",
     "output_type": "stream",
     "text": [
      "c:\\users\\907932\\appdata\\local\\programs\\python\\python37\\lib\\site-packages\\ipykernel_launcher.py:1: DeprecationWarning: collection_names is deprecated. Use list_collection_names instead.\n",
      "  \"\"\"Entry point for launching an IPython kernel.\n"
     ]
    },
    {
     "data": {
      "text/plain": [
       "{'code': 26,\n",
       " 'codeName': 'NamespaceNotFound',\n",
       " 'errmsg': 'ns not found',\n",
       " 'ok': 0.0}"
      ]
     },
     "execution_count": 3,
     "metadata": {},
     "output_type": "execute_result"
    }
   ],
   "source": [
    "collection_names = test_database.collection_names()\n",
    "posts = test_database.posts\n",
    "# create\n",
    "new_collection = test_database.new_collection\n",
    "# delete\n",
    "test_database.drop_collection(new_collection) # argument is the collection object"
   ]
  },
  {
   "cell_type": "markdown",
   "metadata": {
    "deletable": true,
    "editable": true
   },
   "source": [
    "### 4. Add documents to a collection\n",
    "- insert_one\n",
    "- insert-many"
   ]
  },
  {
   "cell_type": "code",
   "execution_count": 4,
   "metadata": {
    "collapsed": false,
    "deletable": true,
    "editable": true
   },
   "outputs": [
    {
     "name": "stdout",
     "output_type": "stream",
     "text": [
      "{'_id': 0}\n"
     ]
    }
   ],
   "source": [
    "foo = test_database.foo\n",
    "foo.insert_one({'_id': 0})\n",
    "for data in foo.find():\n",
    "    print(data)"
   ]
  },
  {
   "cell_type": "code",
   "execution_count": 5,
   "metadata": {
    "collapsed": false,
    "deletable": true,
    "editable": true
   },
   "outputs": [
    {
     "name": "stdout",
     "output_type": "stream",
     "text": [
      "{'_id': 0}\n",
      "{'_id': 1}\n",
      "{'_id': 2}\n"
     ]
    }
   ],
   "source": [
    "foo.insert_many([{'_id': 1}, {'_id': 2}])\n",
    "for data in foo.find():\n",
    "    print(data)"
   ]
  },
  {
   "cell_type": "code",
   "execution_count": 6,
   "metadata": {
    "collapsed": false,
    "deletable": true,
    "editable": true
   },
   "outputs": [
    {
     "name": "stdout",
     "output_type": "stream",
     "text": [
      "{'_id': 0}\n",
      "{'_id': 1}\n",
      "{'_id': 2}\n"
     ]
    }
   ],
   "source": [
    "for data in foo.find():\n",
    "    print(data)"
   ]
  },
  {
   "cell_type": "markdown",
   "metadata": {
    "deletable": true,
    "editable": true
   },
   "source": [
    "### 5. Delete documents from a collection\n",
    "- remove one\n",
    "- remove all"
   ]
  },
  {
   "cell_type": "code",
   "execution_count": 7,
   "metadata": {
    "collapsed": false,
    "deletable": true,
    "editable": true
   },
   "outputs": [
    {
     "name": "stdout",
     "output_type": "stream",
     "text": [
      "{'_id': 0}\n",
      "{'_id': 1}\n"
     ]
    },
    {
     "name": "stderr",
     "output_type": "stream",
     "text": [
      "c:\\users\\907932\\appdata\\local\\programs\\python\\python37\\lib\\site-packages\\ipykernel_launcher.py:1: DeprecationWarning: remove is deprecated. Use delete_one or delete_many instead.\n",
      "  \"\"\"Entry point for launching an IPython kernel.\n",
      "c:\\users\\907932\\appdata\\local\\programs\\python\\python37\\lib\\site-packages\\ipykernel_launcher.py:4: DeprecationWarning: remove is deprecated. Use delete_one or delete_many instead.\n",
      "  after removing the cwd from sys.path.\n",
      "c:\\users\\907932\\appdata\\local\\programs\\python\\python37\\lib\\site-packages\\ipykernel_launcher.py:5: DeprecationWarning: count is deprecated. Use estimated_document_count or count_documents instead. Please note that $where must be replaced by $expr, $near must be replaced by $geoWithin with $center, and $nearSphere must be replaced by $geoWithin with $centerSphere\n",
      "  \"\"\"\n"
     ]
    },
    {
     "data": {
      "text/plain": [
       "0"
      ]
     },
     "execution_count": 7,
     "metadata": {},
     "output_type": "execute_result"
    }
   ],
   "source": [
    "foo.remove({'_id': 2})\n",
    "for data in foo.find():\n",
    "    print(data)\n",
    "foo.remove()\n",
    "foo.count()"
   ]
  },
  {
   "cell_type": "markdown",
   "metadata": {
    "deletable": true,
    "editable": true
   },
   "source": [
    "### 6. Update"
   ]
  },
  {
   "cell_type": "code",
   "execution_count": 8,
   "metadata": {
    "collapsed": false,
    "deletable": true,
    "editable": true
   },
   "outputs": [
    {
     "data": {
      "text/plain": [
       "<pymongo.cursor.Cursor at 0x1c219fcdb00>"
      ]
     },
     "execution_count": 8,
     "metadata": {},
     "output_type": "execute_result"
    }
   ],
   "source": [
    "# create a new collection if the collection does not exist\n",
    "user = test_database.user\n",
    "joe = {'name': 'joe', 'friends': 32, 'enemies': 2}\n",
    "user.insert_one(joe)\n",
    "user.find()"
   ]
  },
  {
   "cell_type": "code",
   "execution_count": 9,
   "metadata": {
    "collapsed": false,
    "deletable": true,
    "editable": true
   },
   "outputs": [
    {
     "name": "stdout",
     "output_type": "stream",
     "text": [
      "<class 'dict'>\n"
     ]
    },
    {
     "data": {
      "text/plain": [
       "{'_id': ObjectId('5f4273607aa1d38bb7600045'),\n",
       " 'enemies': 2,\n",
       " 'friend': 32,\n",
       " 'name': 'joe'}"
      ]
     },
     "execution_count": 9,
     "metadata": {},
     "output_type": "execute_result"
    }
   ],
   "source": [
    "joe = user.find_one()\n",
    "print(type(joe))\n",
    "joe"
   ]
  },
  {
   "cell_type": "code",
   "execution_count": 10,
   "metadata": {
    "collapsed": false,
    "deletable": true,
    "editable": true
   },
   "outputs": [],
   "source": [
    "joe['relationships'] = {'friends': joe['friend'], 'enemies': joe['enemies']}\n",
    "joe['username'] = joe['name']\n",
    "joe\n",
    "del joe['name']\n",
    "del joe['enemies']\n",
    "del joe['friend']"
   ]
  },
  {
   "cell_type": "code",
   "execution_count": 11,
   "metadata": {
    "collapsed": false,
    "deletable": true,
    "editable": true
   },
   "outputs": [
    {
     "name": "stdout",
     "output_type": "stream",
     "text": [
      "{'_id': ObjectId('5f4273607aa1d38bb7600045'), 'relationships': {'friends': 32, 'enemies': 2}, 'username': 'joe'}\n"
     ]
    }
   ],
   "source": [
    "print(joe)"
   ]
  },
  {
   "cell_type": "code",
   "execution_count": 13,
   "metadata": {
    "collapsed": false
   },
   "outputs": [
    {
     "ename": "WriteError",
     "evalue": "After applying the update, the (immutable) field '_id' was found to have been altered to _id: ObjectId('5f4273607aa1d38bb7600045')",
     "output_type": "error",
     "traceback": [
      "\u001b[1;31m---------------------------------------------------------------------------\u001b[0m",
      "\u001b[1;31mWriteError\u001b[0m                                Traceback (most recent call last)",
      "\u001b[1;32m<ipython-input-13-ea8990f6f020>\u001b[0m in \u001b[0;36m<module>\u001b[1;34m()\u001b[0m\n\u001b[1;32m----> 1\u001b[1;33m \u001b[0muser\u001b[0m\u001b[1;33m.\u001b[0m\u001b[0mreplace_one\u001b[0m\u001b[1;33m(\u001b[0m\u001b[1;33m{\u001b[0m\u001b[1;34m'name'\u001b[0m\u001b[1;33m:\u001b[0m \u001b[1;34m'joe'\u001b[0m\u001b[1;33m}\u001b[0m\u001b[1;33m,\u001b[0m \u001b[0mjoe\u001b[0m\u001b[1;33m)\u001b[0m\u001b[1;33m\u001b[0m\u001b[1;33m\u001b[0m\u001b[0m\n\u001b[0m\u001b[0;32m      2\u001b[0m \u001b[0mjoe\u001b[0m \u001b[1;33m=\u001b[0m \u001b[0muser\u001b[0m\u001b[1;33m.\u001b[0m\u001b[0mfind_one\u001b[0m\u001b[1;33m(\u001b[0m\u001b[1;33m)\u001b[0m\u001b[1;33m\u001b[0m\u001b[1;33m\u001b[0m\u001b[0m\n\u001b[0;32m      3\u001b[0m \u001b[0mjoe\u001b[0m\u001b[1;33m\u001b[0m\u001b[1;33m\u001b[0m\u001b[0m\n",
      "\u001b[1;32mc:\\users\\907932\\appdata\\local\\programs\\python\\python37\\lib\\site-packages\\pymongo\\collection.py\u001b[0m in \u001b[0;36mreplace_one\u001b[1;34m(self, filter, replacement, upsert, bypass_document_validation, collation, session)\u001b[0m\n\u001b[0;32m    930\u001b[0m                 \u001b[0mwrite_concern\u001b[0m\u001b[1;33m=\u001b[0m\u001b[0mwrite_concern\u001b[0m\u001b[1;33m,\u001b[0m\u001b[1;33m\u001b[0m\u001b[1;33m\u001b[0m\u001b[0m\n\u001b[0;32m    931\u001b[0m                 \u001b[0mbypass_doc_val\u001b[0m\u001b[1;33m=\u001b[0m\u001b[0mbypass_document_validation\u001b[0m\u001b[1;33m,\u001b[0m\u001b[1;33m\u001b[0m\u001b[1;33m\u001b[0m\u001b[0m\n\u001b[1;32m--> 932\u001b[1;33m                 collation=collation, session=session),\n\u001b[0m\u001b[0;32m    933\u001b[0m             write_concern.acknowledged)\n\u001b[0;32m    934\u001b[0m \u001b[1;33m\u001b[0m\u001b[0m\n",
      "\u001b[1;32mc:\\users\\907932\\appdata\\local\\programs\\python\\python37\\lib\\site-packages\\pymongo\\collection.py\u001b[0m in \u001b[0;36m_update_retryable\u001b[1;34m(self, criteria, document, upsert, check_keys, multi, manipulate, write_concern, op_id, ordered, bypass_doc_val, collation, array_filters, session)\u001b[0m\n\u001b[0;32m    856\u001b[0m         return self.__database.client._retryable_write(\n\u001b[0;32m    857\u001b[0m             \u001b[1;33m(\u001b[0m\u001b[0mwrite_concern\u001b[0m \u001b[1;32mor\u001b[0m \u001b[0mself\u001b[0m\u001b[1;33m.\u001b[0m\u001b[0mwrite_concern\u001b[0m\u001b[1;33m)\u001b[0m\u001b[1;33m.\u001b[0m\u001b[0macknowledged\u001b[0m \u001b[1;32mand\u001b[0m \u001b[1;32mnot\u001b[0m \u001b[0mmulti\u001b[0m\u001b[1;33m,\u001b[0m\u001b[1;33m\u001b[0m\u001b[1;33m\u001b[0m\u001b[0m\n\u001b[1;32m--> 858\u001b[1;33m             _update, session)\n\u001b[0m\u001b[0;32m    859\u001b[0m \u001b[1;33m\u001b[0m\u001b[0m\n\u001b[0;32m    860\u001b[0m     def replace_one(self, filter, replacement, upsert=False,\n",
      "\u001b[1;32mc:\\users\\907932\\appdata\\local\\programs\\python\\python37\\lib\\site-packages\\pymongo\\mongo_client.py\u001b[0m in \u001b[0;36m_retryable_write\u001b[1;34m(self, retryable, func, session)\u001b[0m\n\u001b[0;32m   1278\u001b[0m         \u001b[1;34m\"\"\"Internal retryable write helper.\"\"\"\u001b[0m\u001b[1;33m\u001b[0m\u001b[1;33m\u001b[0m\u001b[0m\n\u001b[0;32m   1279\u001b[0m         \u001b[1;32mwith\u001b[0m \u001b[0mself\u001b[0m\u001b[1;33m.\u001b[0m\u001b[0m_tmp_session\u001b[0m\u001b[1;33m(\u001b[0m\u001b[0msession\u001b[0m\u001b[1;33m)\u001b[0m \u001b[1;32mas\u001b[0m \u001b[0ms\u001b[0m\u001b[1;33m:\u001b[0m\u001b[1;33m\u001b[0m\u001b[1;33m\u001b[0m\u001b[0m\n\u001b[1;32m-> 1280\u001b[1;33m             \u001b[1;32mreturn\u001b[0m \u001b[0mself\u001b[0m\u001b[1;33m.\u001b[0m\u001b[0m_retry_with_session\u001b[0m\u001b[1;33m(\u001b[0m\u001b[0mretryable\u001b[0m\u001b[1;33m,\u001b[0m \u001b[0mfunc\u001b[0m\u001b[1;33m,\u001b[0m \u001b[0ms\u001b[0m\u001b[1;33m,\u001b[0m \u001b[1;32mNone\u001b[0m\u001b[1;33m)\u001b[0m\u001b[1;33m\u001b[0m\u001b[1;33m\u001b[0m\u001b[0m\n\u001b[0m\u001b[0;32m   1281\u001b[0m \u001b[1;33m\u001b[0m\u001b[0m\n\u001b[0;32m   1282\u001b[0m     \u001b[1;32mdef\u001b[0m \u001b[0m__reset_server\u001b[0m\u001b[1;33m(\u001b[0m\u001b[0mself\u001b[0m\u001b[1;33m,\u001b[0m \u001b[0maddress\u001b[0m\u001b[1;33m)\u001b[0m\u001b[1;33m:\u001b[0m\u001b[1;33m\u001b[0m\u001b[1;33m\u001b[0m\u001b[0m\n",
      "\u001b[1;32mc:\\users\\907932\\appdata\\local\\programs\\python\\python37\\lib\\site-packages\\pymongo\\mongo_client.py\u001b[0m in \u001b[0;36m_retry_with_session\u001b[1;34m(self, retryable, func, session, bulk)\u001b[0m\n\u001b[0;32m   1231\u001b[0m                             \u001b[1;32mraise\u001b[0m \u001b[0mlast_error\u001b[0m\u001b[1;33m\u001b[0m\u001b[1;33m\u001b[0m\u001b[0m\n\u001b[0;32m   1232\u001b[0m                         \u001b[0mretryable\u001b[0m \u001b[1;33m=\u001b[0m \u001b[1;32mFalse\u001b[0m\u001b[1;33m\u001b[0m\u001b[1;33m\u001b[0m\u001b[0m\n\u001b[1;32m-> 1233\u001b[1;33m                     \u001b[1;32mreturn\u001b[0m \u001b[0mfunc\u001b[0m\u001b[1;33m(\u001b[0m\u001b[0msession\u001b[0m\u001b[1;33m,\u001b[0m \u001b[0msock_info\u001b[0m\u001b[1;33m,\u001b[0m \u001b[0mretryable\u001b[0m\u001b[1;33m)\u001b[0m\u001b[1;33m\u001b[0m\u001b[1;33m\u001b[0m\u001b[0m\n\u001b[0m\u001b[0;32m   1234\u001b[0m             \u001b[1;32mexcept\u001b[0m \u001b[0mServerSelectionTimeoutError\u001b[0m\u001b[1;33m:\u001b[0m\u001b[1;33m\u001b[0m\u001b[1;33m\u001b[0m\u001b[0m\n\u001b[0;32m   1235\u001b[0m                 \u001b[1;32mif\u001b[0m \u001b[0mis_retrying\u001b[0m\u001b[1;33m(\u001b[0m\u001b[1;33m)\u001b[0m\u001b[1;33m:\u001b[0m\u001b[1;33m\u001b[0m\u001b[1;33m\u001b[0m\u001b[0m\n",
      "\u001b[1;32mc:\\users\\907932\\appdata\\local\\programs\\python\\python37\\lib\\site-packages\\pymongo\\collection.py\u001b[0m in \u001b[0;36m_update\u001b[1;34m(session, sock_info, retryable_write)\u001b[0m\n\u001b[0;32m    852\u001b[0m                 \u001b[0mbypass_doc_val\u001b[0m\u001b[1;33m=\u001b[0m\u001b[0mbypass_doc_val\u001b[0m\u001b[1;33m,\u001b[0m \u001b[0mcollation\u001b[0m\u001b[1;33m=\u001b[0m\u001b[0mcollation\u001b[0m\u001b[1;33m,\u001b[0m\u001b[1;33m\u001b[0m\u001b[1;33m\u001b[0m\u001b[0m\n\u001b[0;32m    853\u001b[0m                 \u001b[0marray_filters\u001b[0m\u001b[1;33m=\u001b[0m\u001b[0marray_filters\u001b[0m\u001b[1;33m,\u001b[0m \u001b[0msession\u001b[0m\u001b[1;33m=\u001b[0m\u001b[0msession\u001b[0m\u001b[1;33m,\u001b[0m\u001b[1;33m\u001b[0m\u001b[1;33m\u001b[0m\u001b[0m\n\u001b[1;32m--> 854\u001b[1;33m                 retryable_write=retryable_write)\n\u001b[0m\u001b[0;32m    855\u001b[0m \u001b[1;33m\u001b[0m\u001b[0m\n\u001b[0;32m    856\u001b[0m         return self.__database.client._retryable_write(\n",
      "\u001b[1;32mc:\\users\\907932\\appdata\\local\\programs\\python\\python37\\lib\\site-packages\\pymongo\\collection.py\u001b[0m in \u001b[0;36m_update\u001b[1;34m(self, sock_info, criteria, document, upsert, check_keys, multi, manipulate, write_concern, op_id, ordered, bypass_doc_val, collation, array_filters, session, retryable_write)\u001b[0m\n\u001b[0;32m    823\u001b[0m             \u001b[0mclient\u001b[0m\u001b[1;33m=\u001b[0m\u001b[0mself\u001b[0m\u001b[1;33m.\u001b[0m\u001b[0m__database\u001b[0m\u001b[1;33m.\u001b[0m\u001b[0mclient\u001b[0m\u001b[1;33m,\u001b[0m\u001b[1;33m\u001b[0m\u001b[1;33m\u001b[0m\u001b[0m\n\u001b[0;32m    824\u001b[0m             retryable_write=retryable_write).copy()\n\u001b[1;32m--> 825\u001b[1;33m         \u001b[0m_check_write_command_response\u001b[0m\u001b[1;33m(\u001b[0m\u001b[0mresult\u001b[0m\u001b[1;33m)\u001b[0m\u001b[1;33m\u001b[0m\u001b[1;33m\u001b[0m\u001b[0m\n\u001b[0m\u001b[0;32m    826\u001b[0m         \u001b[1;31m# Add the updatedExisting field for compatibility.\u001b[0m\u001b[1;33m\u001b[0m\u001b[1;33m\u001b[0m\u001b[1;33m\u001b[0m\u001b[0m\n\u001b[0;32m    827\u001b[0m         \u001b[1;32mif\u001b[0m \u001b[0mresult\u001b[0m\u001b[1;33m.\u001b[0m\u001b[0mget\u001b[0m\u001b[1;33m(\u001b[0m\u001b[1;34m'n'\u001b[0m\u001b[1;33m)\u001b[0m \u001b[1;32mand\u001b[0m \u001b[1;34m'upserted'\u001b[0m \u001b[1;32mnot\u001b[0m \u001b[1;32min\u001b[0m \u001b[0mresult\u001b[0m\u001b[1;33m:\u001b[0m\u001b[1;33m\u001b[0m\u001b[1;33m\u001b[0m\u001b[0m\n",
      "\u001b[1;32mc:\\users\\907932\\appdata\\local\\programs\\python\\python37\\lib\\site-packages\\pymongo\\helpers.py\u001b[0m in \u001b[0;36m_check_write_command_response\u001b[1;34m(result)\u001b[0m\n\u001b[0;32m    215\u001b[0m     \u001b[0mwrite_errors\u001b[0m \u001b[1;33m=\u001b[0m \u001b[0mresult\u001b[0m\u001b[1;33m.\u001b[0m\u001b[0mget\u001b[0m\u001b[1;33m(\u001b[0m\u001b[1;34m\"writeErrors\"\u001b[0m\u001b[1;33m)\u001b[0m\u001b[1;33m\u001b[0m\u001b[1;33m\u001b[0m\u001b[0m\n\u001b[0;32m    216\u001b[0m     \u001b[1;32mif\u001b[0m \u001b[0mwrite_errors\u001b[0m\u001b[1;33m:\u001b[0m\u001b[1;33m\u001b[0m\u001b[1;33m\u001b[0m\u001b[0m\n\u001b[1;32m--> 217\u001b[1;33m         \u001b[0m_raise_last_write_error\u001b[0m\u001b[1;33m(\u001b[0m\u001b[0mwrite_errors\u001b[0m\u001b[1;33m)\u001b[0m\u001b[1;33m\u001b[0m\u001b[1;33m\u001b[0m\u001b[0m\n\u001b[0m\u001b[0;32m    218\u001b[0m \u001b[1;33m\u001b[0m\u001b[0m\n\u001b[0;32m    219\u001b[0m     \u001b[0merror\u001b[0m \u001b[1;33m=\u001b[0m \u001b[0mresult\u001b[0m\u001b[1;33m.\u001b[0m\u001b[0mget\u001b[0m\u001b[1;33m(\u001b[0m\u001b[1;34m\"writeConcernError\"\u001b[0m\u001b[1;33m)\u001b[0m\u001b[1;33m\u001b[0m\u001b[1;33m\u001b[0m\u001b[0m\n",
      "\u001b[1;32mc:\\users\\907932\\appdata\\local\\programs\\python\\python37\\lib\\site-packages\\pymongo\\helpers.py\u001b[0m in \u001b[0;36m_raise_last_write_error\u001b[1;34m(write_errors)\u001b[0m\n\u001b[0;32m    197\u001b[0m     \u001b[1;32mif\u001b[0m \u001b[0merror\u001b[0m\u001b[1;33m.\u001b[0m\u001b[0mget\u001b[0m\u001b[1;33m(\u001b[0m\u001b[1;34m\"code\"\u001b[0m\u001b[1;33m)\u001b[0m \u001b[1;33m==\u001b[0m \u001b[1;36m11000\u001b[0m\u001b[1;33m:\u001b[0m\u001b[1;33m\u001b[0m\u001b[1;33m\u001b[0m\u001b[0m\n\u001b[0;32m    198\u001b[0m         \u001b[1;32mraise\u001b[0m \u001b[0mDuplicateKeyError\u001b[0m\u001b[1;33m(\u001b[0m\u001b[0merror\u001b[0m\u001b[1;33m.\u001b[0m\u001b[0mget\u001b[0m\u001b[1;33m(\u001b[0m\u001b[1;34m\"errmsg\"\u001b[0m\u001b[1;33m)\u001b[0m\u001b[1;33m,\u001b[0m \u001b[1;36m11000\u001b[0m\u001b[1;33m,\u001b[0m \u001b[0merror\u001b[0m\u001b[1;33m)\u001b[0m\u001b[1;33m\u001b[0m\u001b[1;33m\u001b[0m\u001b[0m\n\u001b[1;32m--> 199\u001b[1;33m     \u001b[1;32mraise\u001b[0m \u001b[0mWriteError\u001b[0m\u001b[1;33m(\u001b[0m\u001b[0merror\u001b[0m\u001b[1;33m.\u001b[0m\u001b[0mget\u001b[0m\u001b[1;33m(\u001b[0m\u001b[1;34m\"errmsg\"\u001b[0m\u001b[1;33m)\u001b[0m\u001b[1;33m,\u001b[0m \u001b[0merror\u001b[0m\u001b[1;33m.\u001b[0m\u001b[0mget\u001b[0m\u001b[1;33m(\u001b[0m\u001b[1;34m\"code\"\u001b[0m\u001b[1;33m)\u001b[0m\u001b[1;33m,\u001b[0m \u001b[0merror\u001b[0m\u001b[1;33m)\u001b[0m\u001b[1;33m\u001b[0m\u001b[1;33m\u001b[0m\u001b[0m\n\u001b[0m\u001b[0;32m    200\u001b[0m \u001b[1;33m\u001b[0m\u001b[0m\n\u001b[0;32m    201\u001b[0m \u001b[1;33m\u001b[0m\u001b[0m\n",
      "\u001b[1;31mWriteError\u001b[0m: After applying the update, the (immutable) field '_id' was found to have been altered to _id: ObjectId('5f4273607aa1d38bb7600045')"
     ]
    }
   ],
   "source": [
    "user.replace_one({'name': 'joe'}, joe)\n",
    "joe = user.find_one()"
   ]
  },
  {
   "cell_type": "code",
   "execution_count": 14,
   "metadata": {
    "collapsed": false
   },
   "outputs": [
    {
     "data": {
      "text/plain": [
       "{'_id': ObjectId('5f4273607aa1d38bb7600045'),\n",
       " 'relationships': {'enemies': 2, 'friends': 32},\n",
       " 'username': 'joe'}"
      ]
     },
     "execution_count": 14,
     "metadata": {},
     "output_type": "execute_result"
    }
   ],
   "source": [
    "joe"
   ]
  },
  {
   "cell_type": "markdown",
   "metadata": {},
   "source": [
    "### 6 update modifier\n",
    "我们可以使用更新修改器 (update modifier) 来对文档中某些字段进行更新，常用的修改器有以下几个：\n",
    "- set 用来指定一个字段的值，如果不存在，将创建一个新的字段\n",
    "- unset 删除一个字段\n",
    "- inc 用来增加(或减少)一个已有键的值，如果不存在将会创建一个\n",
    "- push 向已有的数组末尾添加一个元素\n",
    "- addToSet 避免插入重复数据\n",
    "- pull 删除元素，基于特定条件\n",
    "- each 遍历列表操作\n",
    "- pop 删除元素\n"
   ]
  },
  {
   "cell_type": "markdown",
   "metadata": {},
   "source": [
    "### 6.1 set"
   ]
  },
  {
   "cell_type": "code",
   "execution_count": 127,
   "metadata": {
    "collapsed": false
   },
   "outputs": [
    {
     "name": "stderr",
     "output_type": "stream",
     "text": [
      "c:\\users\\907932\\appdata\\local\\programs\\python\\python37\\lib\\site-packages\\ipykernel_launcher.py:2: DeprecationWarning: count is deprecated. Use estimated_document_count or count_documents instead. Please note that $where must be replaced by $expr, $near must be replaced by $geoWithin with $center, and $nearSphere must be replaced by $geoWithin with $centerSphere\n",
      "  \n"
     ]
    },
    {
     "data": {
      "text/plain": [
       "0"
      ]
     },
     "execution_count": 127,
     "metadata": {},
     "output_type": "execute_result"
    }
   ],
   "source": [
    "user.drop()\n",
    "user.count()"
   ]
  },
  {
   "cell_type": "code",
   "execution_count": 128,
   "metadata": {
    "collapsed": false
   },
   "outputs": [
    {
     "name": "stdout",
     "output_type": "stream",
     "text": [
      "Collection(Database(MongoClient(host=['localhost:27017'], document_class=dict, tz_aware=False, connect=True), 'test_database'), 'user')\n"
     ]
    }
   ],
   "source": [
    "Hanwei = {'name': 'Hanwei', 'age':30, 'sex': 'male', 'location': 'Wisconsin'}\n",
    "user.insert_one(Hanwei)\n",
    "print(user)"
   ]
  },
  {
   "cell_type": "code",
   "execution_count": 129,
   "metadata": {
    "collapsed": false
   },
   "outputs": [
    {
     "name": "stdout",
     "output_type": "stream",
     "text": [
      "{'_id': ObjectId('5f42a7b1eaae64c68f4ceffd'), 'name': 'Hanwei', 'age': 30, 'sex': 'male', 'location': 'Wisconsin'}\n"
     ]
    }
   ],
   "source": [
    "print(user.find_one())"
   ]
  },
  {
   "cell_type": "code",
   "execution_count": 130,
   "metadata": {
    "collapsed": false
   },
   "outputs": [
    {
     "data": {
      "text/plain": [
       "{'_id': ObjectId('5f42a7b1eaae64c68f4ceffd'),\n",
       " 'age': 30,\n",
       " 'favourite': 'Peace and war',\n",
       " 'location': 'Wisconsin',\n",
       " 'name': 'Hanwei',\n",
       " 'sex': 'male'}"
      ]
     },
     "execution_count": 130,
     "metadata": {},
     "output_type": "execute_result"
    }
   ],
   "source": [
    "name = {'name': 'Hanwei'}\n",
    "favourite  = {'$set':{'favourite': 'Peace and war'}}\n",
    "user.update_one(name, favourite)\n",
    "user.find_one()"
   ]
  },
  {
   "cell_type": "code",
   "execution_count": 131,
   "metadata": {
    "collapsed": false
   },
   "outputs": [
    {
     "data": {
      "text/plain": [
       "{'_id': ObjectId('5f42a7b1eaae64c68f4ceffd'),\n",
       " 'age': 30,\n",
       " 'favorite': 'Green Eggs and Ham',\n",
       " 'favourite': 'Peace and war',\n",
       " 'location': 'Wisconsin',\n",
       " 'name': 'Hanwei',\n",
       " 'sex': 'male'}"
      ]
     },
     "execution_count": 131,
     "metadata": {},
     "output_type": "execute_result"
    }
   ],
   "source": [
    "user.update_one({'name': 'Hanwei'}, {'$set': {'favorite': 'Green Eggs and Ham'}})\n",
    "user.find_one()"
   ]
  },
  {
   "cell_type": "code",
   "execution_count": 132,
   "metadata": {
    "collapsed": false
   },
   "outputs": [
    {
     "data": {
      "text/plain": [
       "{'_id': ObjectId('5f42a7b1eaae64c68f4ceffd'),\n",
       " 'age': 30,\n",
       " 'favorite': [\"Cat's Cradle\", 'Foundation Trilogy', \"Ender's Game\"],\n",
       " 'favourite': 'Peace and war',\n",
       " 'location': 'Wisconsin',\n",
       " 'name': 'Hanwei',\n",
       " 'sex': 'male'}"
      ]
     },
     "execution_count": 132,
     "metadata": {},
     "output_type": "execute_result"
    }
   ],
   "source": [
    "user.update_one({'name': 'Hanwei'}, {'$set': {'favorite': [\"Cat's Cradle\", \"Foundation Trilogy\", \"Ender's Game\"]}})\n",
    "user.find_one()"
   ]
  },
  {
   "cell_type": "code",
   "execution_count": 133,
   "metadata": {
    "collapsed": false
   },
   "outputs": [
    {
     "data": {
      "text/plain": [
       "{'_id': ObjectId('5f42985aeaae64c68f4ceff3'),\n",
       " 'author': {'email': 'joe@example.com', 'name': 'joe schmoe'},\n",
       " 'comments': [{'content': 'nice post.',\n",
       "   'email': 'joe@example.com',\n",
       "   'name': 'joe'},\n",
       "  {'content': 'good post.', 'email': 'bob@example.com', 'name': 'bob'},\n",
       "  {'content': 'nice post.', 'email': 'joe@example.com', 'name': 'joe'},\n",
       "  {'content': 'good post.', 'email': 'bob@example.com', 'name': 'bob'},\n",
       "  {'content': 'nice post.', 'email': 'joe@example.com', 'name': 'joe'},\n",
       "  {'content': 'good post.', 'email': 'bob@example.com', 'name': 'bob'}],\n",
       " 'content': '...',\n",
       " 'title': 'A Blog Post'}"
      ]
     },
     "execution_count": 133,
     "metadata": {},
     "output_type": "execute_result"
    }
   ],
   "source": [
    "# 内嵌文档修改\n",
    "blog = test_database.blog\n",
    "posts = {'title': 'A Blog Post', 'content': '...', 'author': {'name': 'joe', 'email': 'joe@example.com'}} # 创建一个 posts 文档\n",
    "blog.insert_one(posts)\n",
    "blog.find_one()"
   ]
  },
  {
   "cell_type": "code",
   "execution_count": 134,
   "metadata": {
    "collapsed": false
   },
   "outputs": [
    {
     "data": {
      "text/plain": [
       "{'_id': ObjectId('5f42985aeaae64c68f4ceff3'),\n",
       " 'author': {'email': 'joe@example.com', 'name': 'joe schmoe'},\n",
       " 'comments': [{'content': 'nice post.',\n",
       "   'email': 'joe@example.com',\n",
       "   'name': 'joe'},\n",
       "  {'content': 'good post.', 'email': 'bob@example.com', 'name': 'bob'},\n",
       "  {'content': 'nice post.', 'email': 'joe@example.com', 'name': 'joe'},\n",
       "  {'content': 'good post.', 'email': 'bob@example.com', 'name': 'bob'},\n",
       "  {'content': 'nice post.', 'email': 'joe@example.com', 'name': 'joe'},\n",
       "  {'content': 'good post.', 'email': 'bob@example.com', 'name': 'bob'}],\n",
       " 'content': '...',\n",
       " 'title': 'A Blog Post'}"
      ]
     },
     "execution_count": 134,
     "metadata": {},
     "output_type": "execute_result"
    }
   ],
   "source": [
    "blog.update_one({'author.name': 'joe'}, {'$set': {'author.name': 'joe schmoe'}})\n",
    "blog.find_one()"
   ]
  },
  {
   "cell_type": "markdown",
   "metadata": {},
   "source": [
    "### 6.2 unset"
   ]
  },
  {
   "cell_type": "code",
   "execution_count": 135,
   "metadata": {
    "collapsed": false
   },
   "outputs": [
    {
     "data": {
      "text/plain": [
       "{'_id': ObjectId('5f42a7b1eaae64c68f4ceffd'),\n",
       " 'age': 30,\n",
       " 'favorite': [\"Cat's Cradle\", 'Foundation Trilogy', \"Ender's Game\"],\n",
       " 'location': 'Wisconsin',\n",
       " 'name': 'Hanwei',\n",
       " 'sex': 'male'}"
      ]
     },
     "execution_count": 135,
     "metadata": {},
     "output_type": "execute_result"
    }
   ],
   "source": [
    "# 删除 user 集合中 joe 的 favorite 字段\n",
    "user.update_one({'name': 'Hanwei'}, {'$unset': {'favourite':1}})\n",
    "user.find_one()"
   ]
  },
  {
   "cell_type": "markdown",
   "metadata": {},
   "source": [
    "### 6.3 inc"
   ]
  },
  {
   "cell_type": "code",
   "execution_count": 136,
   "metadata": {
    "collapsed": false
   },
   "outputs": [
    {
     "data": {
      "text/plain": [
       "{'_id': ObjectId('5f429930eaae64c68f4ceff4'),\n",
       " 'game': 'pinball',\n",
       " 'score': 5050,\n",
       " 'user': 'joe'}"
      ]
     },
     "execution_count": 136,
     "metadata": {},
     "output_type": "execute_result"
    }
   ],
   "source": [
    "games = test_database.games\n",
    "games.insert_one({'game': 'pinball', 'user': 'joe'})\n",
    "games.find_one()"
   ]
  },
  {
   "cell_type": "code",
   "execution_count": 137,
   "metadata": {
    "collapsed": false
   },
   "outputs": [
    {
     "data": {
      "text/plain": [
       "{'_id': ObjectId('5f429930eaae64c68f4ceff4'),\n",
       " 'game': 'pinball',\n",
       " 'score': 50,\n",
       " 'user': 'joe'}"
      ]
     },
     "execution_count": 137,
     "metadata": {},
     "output_type": "execute_result"
    }
   ],
   "source": [
    "games.update_one({'game': 'pinball', 'user': 'joe'}, {'$set': {'score': 50}})\n",
    "games.find_one()"
   ]
  },
  {
   "cell_type": "code",
   "execution_count": 138,
   "metadata": {
    "collapsed": false
   },
   "outputs": [
    {
     "data": {
      "text/plain": [
       "{'_id': ObjectId('5f429930eaae64c68f4ceff4'),\n",
       " 'game': 'pinball',\n",
       " 'score': 5050,\n",
       " 'user': 'joe'}"
      ]
     },
     "execution_count": 138,
     "metadata": {},
     "output_type": "execute_result"
    }
   ],
   "source": [
    "# 为 score 字段的值增加 5000\n",
    "# 增加\n",
    "games.update_one({'game': 'pinball', 'user': 'joe'}, {'$inc': {'score': 5000}})\n",
    "games.find_one()"
   ]
  },
  {
   "cell_type": "markdown",
   "metadata": {},
   "source": [
    "### 6.4 push 向已有的数组末尾添加一个元素"
   ]
  },
  {
   "cell_type": "code",
   "execution_count": 139,
   "metadata": {
    "collapsed": false
   },
   "outputs": [
    {
     "data": {
      "text/plain": [
       "{'_id': ObjectId('5f42985aeaae64c68f4ceff3'),\n",
       " 'author': {'email': 'joe@example.com', 'name': 'joe schmoe'},\n",
       " 'comments': [{'content': 'nice post.',\n",
       "   'email': 'joe@example.com',\n",
       "   'name': 'joe'},\n",
       "  {'content': 'good post.', 'email': 'bob@example.com', 'name': 'bob'},\n",
       "  {'content': 'nice post.', 'email': 'joe@example.com', 'name': 'joe'},\n",
       "  {'content': 'good post.', 'email': 'bob@example.com', 'name': 'bob'},\n",
       "  {'content': 'nice post.', 'email': 'joe@example.com', 'name': 'joe'},\n",
       "  {'content': 'good post.', 'email': 'bob@example.com', 'name': 'bob'},\n",
       "  {'content': 'nice post.', 'email': 'joe@example.com', 'name': 'joe'}],\n",
       " 'content': '...',\n",
       " 'title': 'A Blog Post'}"
      ]
     },
     "execution_count": 139,
     "metadata": {},
     "output_type": "execute_result"
    }
   ],
   "source": [
    "# 选择 blog 数据库\n",
    "blog = test_database.blog\n",
    "blog.find_one()\n",
    "\n",
    "# 添加一项评论字段 comment\n",
    "blog.update_one({'title': 'A Blog Post'}, {'$push' : {'comments': {'name': 'joe', 'email': 'joe@example.com', 'content': 'nice post.'}}})\n",
    "blog.find_one()"
   ]
  },
  {
   "cell_type": "code",
   "execution_count": 140,
   "metadata": {
    "collapsed": false
   },
   "outputs": [
    {
     "data": {
      "text/plain": [
       "{'_id': ObjectId('5f42985aeaae64c68f4ceff3'),\n",
       " 'author': {'email': 'joe@example.com', 'name': 'joe schmoe'},\n",
       " 'comments': [{'content': 'nice post.',\n",
       "   'email': 'joe@example.com',\n",
       "   'name': 'joe'},\n",
       "  {'content': 'good post.', 'email': 'bob@example.com', 'name': 'bob'},\n",
       "  {'content': 'nice post.', 'email': 'joe@example.com', 'name': 'joe'},\n",
       "  {'content': 'good post.', 'email': 'bob@example.com', 'name': 'bob'},\n",
       "  {'content': 'nice post.', 'email': 'joe@example.com', 'name': 'joe'},\n",
       "  {'content': 'good post.', 'email': 'bob@example.com', 'name': 'bob'},\n",
       "  {'content': 'nice post.', 'email': 'joe@example.com', 'name': 'joe'},\n",
       "  {'content': 'good post.', 'email': 'bob@example.com', 'name': 'bob'}],\n",
       " 'content': '...',\n",
       " 'title': 'A Blog Post'}"
      ]
     },
     "execution_count": 140,
     "metadata": {},
     "output_type": "execute_result"
    }
   ],
   "source": [
    "# 在添加一条由 bob 发表的评论\n",
    "blog.update_one({'title': 'A Blog Post'}, {'$push' : {'comments': {'name': 'bob', 'email': 'bob@example.com', 'content': 'good post.'}}})\n",
    "blog.find_one()"
   ]
  },
  {
   "cell_type": "markdown",
   "metadata": {},
   "source": [
    "### 6.5 addToSet 避免插入重复数据"
   ]
  },
  {
   "cell_type": "code",
   "execution_count": 141,
   "metadata": {
    "collapsed": false
   },
   "outputs": [
    {
     "data": {
      "text/plain": [
       "{'_id': ObjectId('5f42a7b1eaae64c68f4ceffd'),\n",
       " 'age': 30,\n",
       " 'emails': ['joe@example.com', 'joe@gmail.com'],\n",
       " 'favorite': [\"Cat's Cradle\", 'Foundation Trilogy', \"Ender's Game\"],\n",
       " 'location': 'Wisconsin',\n",
       " 'name': 'Hanwei',\n",
       " 'sex': 'male'}"
      ]
     },
     "execution_count": 141,
     "metadata": {},
     "output_type": "execute_result"
    }
   ],
   "source": [
    "user.update_one({'name': 'Hanwei'},{'$push': {'emails': 'joe@example.com'}})\n",
    "user.update_one({'name': 'Hanwei'},{'$push': {'emails': 'joe@gmail.com'}})\n",
    "user.find_one()"
   ]
  },
  {
   "cell_type": "code",
   "execution_count": 142,
   "metadata": {
    "collapsed": false
   },
   "outputs": [
    {
     "data": {
      "text/plain": [
       "{'_id': ObjectId('5f42a7b1eaae64c68f4ceffd'),\n",
       " 'age': 30,\n",
       " 'emails': ['joe@example.com', 'joe@gmail.com'],\n",
       " 'favorite': [\"Cat's Cradle\", 'Foundation Trilogy', \"Ender's Game\"],\n",
       " 'location': 'Wisconsin',\n",
       " 'name': 'Hanwei',\n",
       " 'sex': 'male'}"
      ]
     },
     "execution_count": 142,
     "metadata": {},
     "output_type": "execute_result"
    }
   ],
   "source": [
    "# 使用 $addToSet 再添加一项 joe@example.com 的记录，因为存在重复，数据不会被重复添加\n",
    "user.update_one({'name': 'Hanwei'}, {'$addToSet': {'emails': 'joe@example.com'}})\n",
    "user.find_one()"
   ]
  },
  {
   "cell_type": "code",
   "execution_count": 143,
   "metadata": {
    "collapsed": false
   },
   "outputs": [
    {
     "data": {
      "text/plain": [
       "{'_id': ObjectId('5f42a7b1eaae64c68f4ceffd'),\n",
       " 'age': 30,\n",
       " 'emails': ['joe@example.com', 'joe@gmail.com', 'joe@example.com'],\n",
       " 'favorite': [\"Cat's Cradle\", 'Foundation Trilogy', \"Ender's Game\"],\n",
       " 'location': 'Wisconsin',\n",
       " 'name': 'Hanwei',\n",
       " 'sex': 'male'}"
      ]
     },
     "execution_count": 143,
     "metadata": {},
     "output_type": "execute_result"
    }
   ],
   "source": [
    "# 如果直接使用 $push ，记录会被重复添加\n",
    "user.update_one({'name': 'Hanwei'}, {'$push': {'emails': 'joe@example.com'}})\n",
    "user.find_one()"
   ]
  },
  {
   "cell_type": "markdown",
   "metadata": {},
   "source": [
    "### 6.6 pull 删除元素，基于特定条件"
   ]
  },
  {
   "cell_type": "code",
   "execution_count": 144,
   "metadata": {
    "collapsed": false
   },
   "outputs": [
    {
     "data": {
      "text/plain": [
       "{'_id': ObjectId('5f42a7b1eaae64c68f4ceffd'),\n",
       " 'age': 30,\n",
       " 'emails': ['joe@gmail.com'],\n",
       " 'favorite': [\"Cat's Cradle\", 'Foundation Trilogy', \"Ender's Game\"],\n",
       " 'location': 'Wisconsin',\n",
       " 'name': 'Hanwei',\n",
       " 'sex': 'male'}"
      ]
     },
     "execution_count": 144,
     "metadata": {},
     "output_type": "execute_result"
    }
   ],
   "source": [
    "# 删除 user 集合中 joe 文档重复的 emails 值 ($pull 会删除所有符合条件的记录)\n",
    "user.update_one({'name': 'Hanwei'}, {'$pull': {'emails': 'joe@example.com'}})\n",
    "user.find_one()"
   ]
  },
  {
   "cell_type": "markdown",
   "metadata": {},
   "source": [
    "### 6.7 each 遍历列表操作"
   ]
  },
  {
   "cell_type": "code",
   "execution_count": 145,
   "metadata": {
    "collapsed": false
   },
   "outputs": [
    {
     "data": {
      "text/plain": [
       "{'_id': ObjectId('5f42a7b1eaae64c68f4ceffd'),\n",
       " 'age': 30,\n",
       " 'emails': ['joe@gmail.com', 'joe@example.com', 'joe@outlook.com'],\n",
       " 'favorite': [\"Cat's Cradle\", 'Foundation Trilogy', \"Ender's Game\"],\n",
       " 'location': 'Wisconsin',\n",
       " 'name': 'Hanwei',\n",
       " 'sex': 'male'}"
      ]
     },
     "execution_count": 145,
     "metadata": {},
     "output_type": "execute_result"
    }
   ],
   "source": [
    "# each多个元素的列表相当于多次push\n",
    "user.update_one({'name': 'Hanwei'}, {'$push':{'emails':{'$each':['joe@example.com', 'joe@outlook.com']}}})\n",
    "user.find_one()"
   ]
  },
  {
   "cell_type": "markdown",
   "metadata": {},
   "source": [
    "### 6.8 pop 删除元素"
   ]
  },
  {
   "cell_type": "code",
   "execution_count": 146,
   "metadata": {
    "collapsed": false
   },
   "outputs": [
    {
     "data": {
      "text/plain": [
       "{'_id': ObjectId('5f42a7b1eaae64c68f4ceffd'),\n",
       " 'age': 30,\n",
       " 'emails': ['joe@gmail.com', 'joe@example.com', 'joe@outlook.com'],\n",
       " 'favorite': [\"Cat's Cradle\", 'Foundation Trilogy', \"Ender's Game\"],\n",
       " 'location': 'Wisconsin',\n",
       " 'name': 'Hanwei',\n",
       " 'sex': 'male'}"
      ]
     },
     "execution_count": 146,
     "metadata": {},
     "output_type": "execute_result"
    }
   ],
   "source": [
    "user.find_one()\n",
    "# 删除集合user中Hanwei的email的第一个邮箱地址"
   ]
  },
  {
   "cell_type": "code",
   "execution_count": 151,
   "metadata": {
    "collapsed": false
   },
   "outputs": [
    {
     "data": {
      "text/plain": [
       "{'_id': ObjectId('5f42a7b1eaae64c68f4ceffd'),\n",
       " 'age': 30,\n",
       " 'emails': ['joe@gmail.com', 'joe@example.com', 'joe@outlook.com'],\n",
       " 'favorite': [\"Cat's Cradle\", 'Foundation Trilogy', \"Ender's Game\"],\n",
       " 'location': 'Wisconsin',\n",
       " 'name': 'Hanwei',\n",
       " 'sex': 'male'}"
      ]
     },
     "execution_count": 151,
     "metadata": {},
     "output_type": "execute_result"
    }
   ],
   "source": [
    "# 删除集合 user 中 Hanwei 文档 emails 字段的第一个邮箱地址\n",
    "user.update_one({'name': 'Hanwei'}, {'$pop': {'emails': -1}})\n",
    "user.find_one()"
   ]
  },
  {
   "cell_type": "code",
   "execution_count": 152,
   "metadata": {
    "collapsed": false
   },
   "outputs": [
    {
     "data": {
      "text/plain": [
       "{'_id': ObjectId('5f42a7b1eaae64c68f4ceffd'),\n",
       " 'age': 30,\n",
       " 'emails': ['joe@gmail.com', 'joe@example.com'],\n",
       " 'favorite': [\"Cat's Cradle\", 'Foundation Trilogy', \"Ender's Game\"],\n",
       " 'location': 'Wisconsin',\n",
       " 'name': 'Hanwei',\n",
       " 'sex': 'male'}"
      ]
     },
     "execution_count": 152,
     "metadata": {},
     "output_type": "execute_result"
    }
   ],
   "source": [
    "# 删除集合 user 中 Hanwei 文档 emails 字段的最后一个邮箱地址\n",
    "user.update_one({'name': 'Hanwei'}, {'$pop': {'emails': 1}})\n",
    "user.find_one()"
   ]
  },
  {
   "cell_type": "markdown",
   "metadata": {},
   "source": [
    "## 7. modifier based on the index of list"
   ]
  },
  {
   "cell_type": "code",
   "execution_count": 154,
   "metadata": {
    "collapsed": false
   },
   "outputs": [
    {
     "data": {
      "text/plain": [
       "{'_id': ObjectId('5f42a9a9eaae64c68f4cf000'),\n",
       " 'comments': [{'author': 'John', 'comment': 'good post', 'votes': 0},\n",
       "  {'author': 'Claire', 'comment': 'i thought it was too short', 'votes': 3},\n",
       "  {'auth: or': 'Alice', 'comment': 'free watches', 'votes': -1}],\n",
       " 'content': '...'}"
      ]
     },
     "execution_count": 154,
     "metadata": {},
     "output_type": "execute_result"
    }
   ],
   "source": [
    "blog.drop()\n",
    "posts = {'content': '...', 'comments': [{'comment': 'good post', 'author': 'John', 'votes': 0}, {'comment': 'i thought it was too short', 'author': 'Claire', 'votes': 3}, {'comment': 'free watches', 'auth: or': 'Alice', 'votes': -1}]}\n",
    "blog.insert_one(posts)\n",
    "blog.find_one()"
   ]
  },
  {
   "cell_type": "code",
   "execution_count": 156,
   "metadata": {
    "collapsed": false
   },
   "outputs": [
    {
     "data": {
      "text/plain": [
       "{'_id': ObjectId('5f42a9a9eaae64c68f4cf000'),\n",
       " 'comments': [{'author': 'John', 'comment': 'good post', 'votes': 2},\n",
       "  {'author': 'Claire', 'comment': 'i thought it was too short', 'votes': 3},\n",
       "  {'auth: or': 'Alice', 'comment': 'free watches', 'votes': -1}],\n",
       " 'content': '...'}"
      ]
     },
     "execution_count": 156,
     "metadata": {},
     "output_type": "execute_result"
    }
   ],
   "source": [
    "# 为第一条评论 comments 的 votes 字段增加 1\n",
    "postId = blog.find_one()['_id']\n",
    "blog.update_one({'_id':postId}, {'$inc':{'comments.0.votes': 1}})\n",
    "blog.find_one()"
   ]
  },
  {
   "cell_type": "code",
   "execution_count": 157,
   "metadata": {
    "collapsed": false
   },
   "outputs": [
    {
     "data": {
      "text/plain": [
       "{'_id': ObjectId('5f42a9a9eaae64c68f4cf000'),\n",
       " 'comments': [{'author': 'Jim', 'comment': 'good post', 'votes': 2},\n",
       "  {'author': 'Claire', 'comment': 'i thought it was too short', 'votes': 3},\n",
       "  {'auth: or': 'Alice', 'comment': 'free watches', 'votes': -1}],\n",
       " 'content': '...'}"
      ]
     },
     "execution_count": 157,
     "metadata": {},
     "output_type": "execute_result"
    }
   ],
   "source": [
    "# 定位符的使用，通常在不知道具体数组位置，使用定位查询文档来匹配数组元素\n",
    "# {'comments.author': 'John'}\n",
    "blog.update_one({'comments.author': 'John'}, {'$set': {'comments.$.author': 'Jim'}})\n",
    "blog.find_one()"
   ]
  },
  {
   "cell_type": "markdown",
   "metadata": {},
   "source": [
    "## 8. PyMongo Lookup: find_one() and find()"
   ]
  },
  {
   "cell_type": "code",
   "execution_count": 165,
   "metadata": {
    "collapsed": false
   },
   "outputs": [
    {
     "name": "stdout",
     "output_type": "stream",
     "text": [
      "{'_id': ObjectId('5f42ac85eaae64c68f4cf00d'), 'name': 'joe', 'age': 26}\n",
      "{'_id': ObjectId('5f42ac85eaae64c68f4cf00e'), 'name': 'mike', 'age': 28}\n",
      "{'_id': ObjectId('5f42ac85eaae64c68f4cf00f'), 'name': 'jake', 'age': 26}\n"
     ]
    }
   ],
   "source": [
    "users = test_database.users\n",
    "joe = {'name': 'joe', 'age': 26}\n",
    "mike = {'name': 'mike', 'age': 28}\n",
    "jake = {'name': 'jake', 'age': 26}\n",
    "users.insert_many([joe, mike, jake])\n",
    "for data in users.find():\n",
    "    print(data)"
   ]
  },
  {
   "cell_type": "markdown",
   "metadata": {},
   "source": [
    "find() 的使用方法\n",
    "\n",
    "我们使用 find() 方法，如果不传入任何参数，将返回该集合中的所有数据的一个游标，然后我们可以通过 for 来遍历游标来打印查询结果。\n",
    "\n",
    "如果我们需要查找特定的数据，比如年龄为 28 的用户，那么我们可以给 find() 方法传入一个匹配的规则。"
   ]
  },
  {
   "cell_type": "code",
   "execution_count": 166,
   "metadata": {
    "collapsed": false
   },
   "outputs": [
    {
     "name": "stderr",
     "output_type": "stream",
     "text": [
      "c:\\users\\907932\\appdata\\local\\programs\\python\\python37\\lib\\site-packages\\ipykernel_launcher.py:2: DeprecationWarning: count is deprecated. Use Collection.count_documents instead.\n",
      "  \n"
     ]
    },
    {
     "data": {
      "text/plain": [
       "1"
      ]
     },
     "execution_count": 166,
     "metadata": {},
     "output_type": "execute_result"
    }
   ],
   "source": [
    "result = users.find({'age': 28})\n",
    "result.count()"
   ]
  },
  {
   "cell_type": "code",
   "execution_count": 167,
   "metadata": {
    "collapsed": false
   },
   "outputs": [
    {
     "data": {
      "text/plain": [
       "{'_id': ObjectId('5f42ac85eaae64c68f4cf00e'), 'age': 28, 'name': 'mike'}"
      ]
     },
     "execution_count": 167,
     "metadata": {},
     "output_type": "execute_result"
    }
   ],
   "source": [
    "result.next()"
   ]
  },
  {
   "cell_type": "code",
   "execution_count": 170,
   "metadata": {
    "collapsed": false
   },
   "outputs": [
    {
     "data": {
      "text/plain": [
       "{'_id': ObjectId('5f42ac85eaae64c68f4cf00f'), 'age': 26, 'name': 'jake'}"
      ]
     },
     "execution_count": 170,
     "metadata": {},
     "output_type": "execute_result"
    }
   ],
   "source": [
    "result = users.find({'age': 26, 'name': 'jake'}) \n",
    "result.next()"
   ]
  },
  {
   "cell_type": "markdown",
   "metadata": {},
   "source": [
    "find_one() 的使用方法\n",
    "\n",
    "上面我们演示了 find() 的用法，我们接下来将会演示 find_one() 的用法。 find_one() 的用法与 find() 的使用方法差别不大，他们的区别是使用 find_one() 最多只会返回一条文档记录，而 find() 则返回查询游标。以下是代码演示："
   ]
  },
  {
   "cell_type": "code",
   "execution_count": 176,
   "metadata": {
    "collapsed": true
   },
   "outputs": [],
   "source": [
    "one_user = user.find_one({})\n",
    "one_user"
   ]
  },
  {
   "cell_type": "code",
   "execution_count": 173,
   "metadata": {
    "collapsed": false
   },
   "outputs": [
    {
     "data": {
      "text/plain": [
       "NoneType"
      ]
     },
     "execution_count": 173,
     "metadata": {},
     "output_type": "execute_result"
    }
   ],
   "source": [
    "type(users.find_one({'name': 'kate'}))"
   ]
  },
  {
   "cell_type": "code",
   "execution_count": 174,
   "metadata": {
    "collapsed": false
   },
   "outputs": [
    {
     "data": {
      "text/plain": [
       "{'_id': ObjectId('5f42ac85eaae64c68f4cf00d'), 'age': 26, 'name': 'joe'}"
      ]
     },
     "execution_count": 174,
     "metadata": {},
     "output_type": "execute_result"
    }
   ],
   "source": [
    "users.find_one({'age': 26})"
   ]
  },
  {
   "cell_type": "markdown",
   "metadata": {},
   "source": [
    "指定返回字段\n",
    "\n",
    "我们在查询的时候，可能并不需要文档中的所有字段，这是我们可以在查询条件之后再传入一个参数来指定返回的字段。"
   ]
  },
  {
   "cell_type": "code",
   "execution_count": 175,
   "metadata": {
    "collapsed": false
   },
   "outputs": [
    {
     "data": {
      "text/plain": [
       "{'age': 26, 'name': 'joe'}"
      ]
     },
     "execution_count": 175,
     "metadata": {},
     "output_type": "execute_result"
    }
   ],
   "source": [
    "# 不要 _id 字段\n",
    "users.find_one({}, {'_id': 0})"
   ]
  },
  {
   "cell_type": "code",
   "execution_count": 177,
   "metadata": {
    "collapsed": false
   },
   "outputs": [
    {
     "data": {
      "text/plain": [
       "{'_id': ObjectId('5f42ac85eaae64c68f4cf00d')}"
      ]
     },
     "execution_count": 177,
     "metadata": {},
     "output_type": "execute_result"
    }
   ],
   "source": [
    "# 只输出 _id 字段\n",
    "users.find_one({}, {'_id': 1})"
   ]
  },
  {
   "cell_type": "code",
   "execution_count": null,
   "metadata": {
    "collapsed": true
   },
   "outputs": [],
   "source": []
  },
  {
   "cell_type": "code",
   "execution_count": null,
   "metadata": {
    "collapsed": true
   },
   "outputs": [],
   "source": []
  },
  {
   "cell_type": "code",
   "execution_count": null,
   "metadata": {
    "collapsed": true
   },
   "outputs": [],
   "source": []
  },
  {
   "cell_type": "code",
   "execution_count": null,
   "metadata": {
    "collapsed": true
   },
   "outputs": [],
   "source": []
  }
 ],
 "metadata": {
  "kernelspec": {
   "display_name": "Python 3",
   "language": "python",
   "name": "python3"
  },
  "language_info": {
   "codemirror_mode": {
    "name": "ipython",
    "version": 3
   },
   "file_extension": ".py",
   "mimetype": "text/x-python",
   "name": "python",
   "nbconvert_exporter": "python",
   "pygments_lexer": "ipython3",
   "version": "3.7.1"
  }
 },
 "nbformat": 4,
 "nbformat_minor": 2
}
