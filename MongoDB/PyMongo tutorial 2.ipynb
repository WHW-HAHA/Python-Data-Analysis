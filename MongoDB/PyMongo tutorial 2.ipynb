{
 "cells": [
  {
   "cell_type": "markdown",
   "metadata": {},
   "source": [
    "# PyMongo Tutorial 2"
   ]
  },
  {
   "cell_type": "code",
   "execution_count": 2,
   "metadata": {
    "collapsed": false
   },
   "outputs": [
    {
     "name": "stdout",
     "output_type": "stream",
     "text": [
      "MongoClient(host=['localhost:27017'], document_class=dict, tz_aware=False, connect=True)\n"
     ]
    }
   ],
   "source": [
    "from pymongo import MongoClient\n",
    "\n",
    "client = MongoClient()\n",
    "\n",
    "print(client)"
   ]
  },
  {
   "cell_type": "code",
   "execution_count": 3,
   "metadata": {
    "collapsed": true
   },
   "outputs": [],
   "source": [
    "test_database = client.test_database"
   ]
  },
  {
   "cell_type": "code",
   "execution_count": 6,
   "metadata": {
    "collapsed": false
   },
   "outputs": [
    {
     "name": "stdout",
     "output_type": "stream",
     "text": [
      "{'_id': ObjectId('5f42c07099317f50e7fb4bdb'), 'name': 'joe', 'age': 26}\n",
      "{'_id': ObjectId('5f42c07099317f50e7fb4bdc'), 'name': 'mike', 'age': 28}\n",
      "{'_id': ObjectId('5f42c07099317f50e7fb4bdd'), 'name': 'jake', 'age': 26}\n"
     ]
    }
   ],
   "source": [
    "users = test_database.users\n",
    "joe = {'name': 'joe', 'age': 26}\n",
    "mike = {'name': 'mike', 'age': 28}\n",
    "jake = {'name': 'jake', 'age': 26}\n",
    "users.insert_many([joe, mike, jake])\n",
    "for data in users.find():\n",
    "    print(data)"
   ]
  },
  {
   "cell_type": "markdown",
   "metadata": {},
   "source": [
    "### 1. Pymongo 条件查询操作\n",
    "比较操作符\n",
    "在查询中，我们会经常用到比较字段值得大小来查询数据，实现这一功能我们会用到比较操作符，Pymongo 常用的比较操作符有以下几个：\n",
    "\n",
    "- lt 小于\n",
    "- let 小于等于\n",
    "- gt 大于\n",
    "- gte 大于等于\n",
    "- ne 不等于"
   ]
  },
  {
   "cell_type": "code",
   "execution_count": 8,
   "metadata": {
    "collapsed": false
   },
   "outputs": [
    {
     "name": "stdout",
     "output_type": "stream",
     "text": [
      "{'_id': ObjectId('5f42c07099317f50e7fb4bdc'), 'name': 'mike', 'age': 28}\n"
     ]
    }
   ],
   "source": [
    "for data in users.find({'age':{'$gt': 26}}):\n",
    "    print(data)"
   ]
  },
  {
   "cell_type": "code",
   "execution_count": 10,
   "metadata": {
    "collapsed": false
   },
   "outputs": [
    {
     "name": "stdout",
     "output_type": "stream",
     "text": [
      "{'_id': ObjectId('5f42c07099317f50e7fb4bdb'), 'name': 'joe', 'age': 26}\n",
      "{'_id': ObjectId('5f42c07099317f50e7fb4bdc'), 'name': 'mike', 'age': 28}\n",
      "{'_id': ObjectId('5f42c07099317f50e7fb4bdd'), 'name': 'jake', 'age': 26}\n"
     ]
    }
   ],
   "source": [
    "for data in users.find({'age': {'$gte': 26}}):\n",
    "    print(data)"
   ]
  },
  {
   "cell_type": "code",
   "execution_count": 11,
   "metadata": {
    "collapsed": false
   },
   "outputs": [
    {
     "name": "stdout",
     "output_type": "stream",
     "text": [
      "{'_id': ObjectId('5f42c07099317f50e7fb4bdb'), 'name': 'joe', 'age': 26}\n",
      "{'_id': ObjectId('5f42c07099317f50e7fb4bdd'), 'name': 'jake', 'age': 26}\n"
     ]
    }
   ],
   "source": [
    "for data in users.find({'age': {'$lt': 28}}):\n",
    "    print(data)"
   ]
  },
  {
   "cell_type": "code",
   "execution_count": 12,
   "metadata": {
    "collapsed": false
   },
   "outputs": [
    {
     "name": "stdout",
     "output_type": "stream",
     "text": [
      "{'_id': ObjectId('5f42c07099317f50e7fb4bdb'), 'name': 'joe', 'age': 26}\n",
      "{'_id': ObjectId('5f42c07099317f50e7fb4bdc'), 'name': 'mike', 'age': 28}\n",
      "{'_id': ObjectId('5f42c07099317f50e7fb4bdd'), 'name': 'jake', 'age': 26}\n"
     ]
    }
   ],
   "source": [
    "for data in users.find({'age': {'$lte': 28}}):\n",
    "    print(data)"
   ]
  },
  {
   "cell_type": "code",
   "execution_count": 14,
   "metadata": {
    "collapsed": false
   },
   "outputs": [
    {
     "name": "stdout",
     "output_type": "stream",
     "text": [
      "{'_id': ObjectId('5f42c07099317f50e7fb4bdb'), 'name': 'joe', 'age': 26}\n",
      "{'_id': ObjectId('5f42c07099317f50e7fb4bdd'), 'name': 'jake', 'age': 26}\n"
     ]
    }
   ],
   "source": [
    "for data in users.find({'name': {'$ne': 'mike'}}):\n",
    "    print(data)"
   ]
  },
  {
   "cell_type": "markdown",
   "metadata": {},
   "source": [
    "### 2. in 和 nin 的用法\n",
    "我们可以使用 in 和 nin 操作符来匹配一个键的多个值，具体用法示例如下："
   ]
  },
  {
   "cell_type": "code",
   "execution_count": 15,
   "metadata": {
    "collapsed": false
   },
   "outputs": [
    {
     "name": "stdout",
     "output_type": "stream",
     "text": [
      "{'_id': ObjectId('5f42c07099317f50e7fb4bdb'), 'name': 'joe', 'age': 26}\n",
      "{'_id': ObjectId('5f42c07099317f50e7fb4bdc'), 'name': 'mike', 'age': 28}\n"
     ]
    }
   ],
   "source": [
    "# 匹配 users 集合中 用户名为 joe 和 mike 的文档记录\n",
    "for data in users.find({'name': {'$in': ['joe', 'mike']}}):\n",
    "    print(data)"
   ]
  },
  {
   "cell_type": "code",
   "execution_count": 16,
   "metadata": {
    "collapsed": false
   },
   "outputs": [
    {
     "name": "stdout",
     "output_type": "stream",
     "text": [
      "{'_id': ObjectId('5f42c07099317f50e7fb4bdb'), 'name': 'joe', 'age': 26}\n",
      "{'_id': ObjectId('5f42c07099317f50e7fb4bdd'), 'name': 'jake', 'age': 26}\n"
     ]
    }
   ],
   "source": [
    "# 匹配用户名不是 mike 的用户 注意： $in 和 $nin 条件必须是一个数组\n",
    "for data in users.find({'name': {'$nin': ['mike']}}):\n",
    "    print(data)"
   ]
  },
  {
   "cell_type": "markdown",
   "metadata": {},
   "source": [
    "### 3. or 的用法\n",
    "如果需要查询两个条件中其中一个为真的查询结果，可以使用 $or 操作符。具体示例如下："
   ]
  },
  {
   "cell_type": "code",
   "execution_count": 17,
   "metadata": {
    "collapsed": false
   },
   "outputs": [
    {
     "data": {
      "text/plain": [
       "<pymongo.results.InsertOneResult at 0x173a48a7d48>"
      ]
     },
     "execution_count": 17,
     "metadata": {},
     "output_type": "execute_result"
    }
   ],
   "source": [
    "# 为方便演示，我们先插入多一条文档记录\n",
    "kate = {'name': 'kate', 'age': 30}\n",
    "users.insert_one(kate)"
   ]
  },
  {
   "cell_type": "code",
   "execution_count": 22,
   "metadata": {
    "collapsed": false
   },
   "outputs": [
    {
     "name": "stdout",
     "output_type": "stream",
     "text": [
      "{'_id': ObjectId('5f42c07099317f50e7fb4bdc'), 'name': 'mike', 'age': 28}\n",
      "{'_id': ObjectId('5f42c28699317f50e7fb4bde'), 'name': 'kate', 'age': 30}\n"
     ]
    }
   ],
   "source": [
    "for data in users.find({'$or': [ {'name': {'$in':['mike']}}, {'age': 30}]}):\n",
    "    print(data)"
   ]
  },
  {
   "cell_type": "markdown",
   "metadata": {},
   "source": [
    "### 4. null 值查询和 exists 条件判定\n",
    "在 Python 中，mongodb 中的 null 值以 None 表示。但在查询 null 值中，会出现比较奇怪的情况，以下为演示案例："
   ]
  },
  {
   "cell_type": "code",
   "execution_count": 30,
   "metadata": {
    "collapsed": false
   },
   "outputs": [
    {
     "name": "stdout",
     "output_type": "stream",
     "text": [
      "{'_id': ObjectId('5f42c42c99317f50e7fb4be5'), 'y': None}\n",
      "{'_id': ObjectId('5f42c42c99317f50e7fb4be6'), 'y': 1}\n",
      "{'_id': ObjectId('5f42c42c99317f50e7fb4be7'), 'y': 2}\n"
     ]
    }
   ],
   "source": [
    "c = test_database.c\n",
    "c.insert_many([{'y': None}, {'y': 1}, {'y': 2}])\n",
    "for data in c.find():\n",
    "    print(data)"
   ]
  },
  {
   "cell_type": "code",
   "execution_count": 31,
   "metadata": {
    "collapsed": false
   },
   "outputs": [
    {
     "name": "stdout",
     "output_type": "stream",
     "text": [
      "{'_id': ObjectId('5f42c42c99317f50e7fb4be5'), 'y': None}\n",
      "{'_id': ObjectId('5f42c42c99317f50e7fb4be6'), 'y': 1}\n",
      "{'_id': ObjectId('5f42c42c99317f50e7fb4be7'), 'y': 2}\n"
     ]
    }
   ],
   "source": [
    "# 查询一个不存在的键，查询条件为 null\n",
    "for data in c.find({'z': None}):\n",
    "    print(data)"
   ]
  },
  {
   "cell_type": "markdown",
   "metadata": {},
   "source": [
    "可以看到，当我们查找 {'z': None} 的时候，会把所有不包含这个条件的文档都查询出来，这样明显和我们的意图不一致，因此我们需要增加一个限定，具体代码如下："
   ]
  },
  {
   "cell_type": "code",
   "execution_count": 32,
   "metadata": {
    "collapsed": true
   },
   "outputs": [],
   "source": [
    "for data in c.find({'z': {'$in': [None], '$exists': 1}}):\n",
    "    print(data)"
   ]
  },
  {
   "cell_type": "markdown",
   "metadata": {},
   "source": [
    "### 5. 查询数组\n",
    "在实际使用当中，我们还可能会存在文档中有数组形式的字段值，因此我们需要一些特定的操作来查询匹配这些数组，同样的，MongoDb 提供了相关的操作符可以使用，常用的数组操作符有以下几个：\n",
    "\n",
    "- all 匹配多个元素数组\n",
    "- size 匹配特定长度的数组\n",
    "- slice 返回匹配数组的一个子集\n",
    "\n",
    "下面将用代码演示以上三个操作符的用法。为方便演示，我们会先创建一个 food 的集合用来存放水果的文档记录。"
   ]
  },
  {
   "cell_type": "code",
   "execution_count": 39,
   "metadata": {
    "collapsed": false
   },
   "outputs": [
    {
     "name": "stdout",
     "output_type": "stream",
     "text": [
      "{'_id': 1, 'fruit': ['apple', 'banana', 'peach']}\n",
      "{'_id': 2, 'fruit': ['apple', 'kumquat', 'orange']}\n",
      "{'_id': 3, 'fruit': ['cherry', 'banana', 'apple']}\n"
     ]
    }
   ],
   "source": [
    "food = test_database.food\n",
    "food.insert_one({'_id': 1, 'fruit': ['apple', 'banana', 'peach']})\n",
    "food.insert_one({'_id': 2, 'fruit': ['apple', 'kumquat', 'orange']})\n",
    "food.insert_one({'_id': 3, 'fruit': ['cherry', 'banana', 'apple']})\n",
    "for data in food.find():\n",
    "    print(data)"
   ]
  },
  {
   "cell_type": "markdown",
   "metadata": {},
   "source": [
    "all 的用法"
   ]
  },
  {
   "cell_type": "code",
   "execution_count": 36,
   "metadata": {
    "collapsed": false
   },
   "outputs": [
    {
     "name": "stdout",
     "output_type": "stream",
     "text": [
      "{'_id': 1, 'fruit': ['apple', 'banana', 'peach']}\n",
      "{'_id': 3, 'fruit': ['cherry', 'banana', 'apple']}\n"
     ]
    }
   ],
   "source": [
    "result = food.find({'fruit': {'$all': ['apple', 'banana']}})\n",
    "for data in result:\n",
    "    print(data)"
   ]
  },
  {
   "cell_type": "markdown",
   "metadata": {},
   "source": [
    "size 的用法\n",
    "为方便演示，我们会向 food 集合中的第二个文档添加多一个水果"
   ]
  },
  {
   "cell_type": "code",
   "execution_count": 41,
   "metadata": {
    "collapsed": false
   },
   "outputs": [
    {
     "name": "stdout",
     "output_type": "stream",
     "text": [
      "{'_id': 1, 'fruit': ['apple', 'banana', 'peach']}\n",
      "{'_id': 2, 'fruit': ['apple', 'kumquat', 'orange', 'strawbreey']}\n",
      "{'_id': 3, 'fruit': ['cherry', 'banana', 'apple']}\n"
     ]
    }
   ],
   "source": [
    "food.update_one({'_id': 2}, {'$push': {'fruit': 'strawbreey'}})\n",
    "for data in food.find():\n",
    "    print(data)"
   ]
  },
  {
   "cell_type": "code",
   "execution_count": 42,
   "metadata": {
    "collapsed": false
   },
   "outputs": [
    {
     "name": "stdout",
     "output_type": "stream",
     "text": [
      "{'_id': 1, 'fruit': ['apple', 'banana', 'peach']}\n",
      "{'_id': 3, 'fruit': ['cherry', 'banana', 'apple']}\n"
     ]
    }
   ],
   "source": [
    "result = food.find({'fruit': {'$size': 3}})\n",
    "for data in result:\n",
    "    print(data)"
   ]
  },
  {
   "cell_type": "markdown",
   "metadata": {},
   "source": [
    "slice 的用法\n",
    "slice 可以返回某个键匹配的数组的一个子集，我们将会用 blog 集合来演示使用 $slice 操作符获取特定数量的评论记录。"
   ]
  },
  {
   "cell_type": "code",
   "execution_count": 44,
   "metadata": {
    "collapsed": false
   },
   "outputs": [
    {
     "data": {
      "text/plain": [
       "{'_id': 1, 'fruit': ['apple', 'banana']}"
      ]
     },
     "execution_count": 44,
     "metadata": {},
     "output_type": "execute_result"
    }
   ],
   "source": [
    "# 获取前两条评论记录\n",
    "food.find_one({}, {'fruit': {'$slice': 2}})"
   ]
  },
  {
   "cell_type": "code",
   "execution_count": 45,
   "metadata": {
    "collapsed": false
   },
   "outputs": [
    {
     "data": {
      "text/plain": [
       "{'_id': 1, 'fruit': ['peach']}"
      ]
     },
     "execution_count": 45,
     "metadata": {},
     "output_type": "execute_result"
    }
   ],
   "source": [
    "# 获取最后一条评论记录\n",
    "food.find_one({}, {'fruit': {'$slice': -1}})"
   ]
  },
  {
   "cell_type": "markdown",
   "metadata": {},
   "source": [
    "### 6. min() 和 max() 的使用\n",
    "如果我们以某个区间值作为查询条件，我们可以使用比较操作符来实现，但是，如果文档中存在值，以及值组成的数组时，查询结果往往与我们的意图不一致，这是我们就需要用到 $elemMatch 来匹配非数组元素，或者使用 min() 和 max() 方法。"
   ]
  },
  {
   "cell_type": "code",
   "execution_count": 47,
   "metadata": {
    "collapsed": false
   },
   "outputs": [
    {
     "data": {
      "text/plain": [
       "<pymongo.results.InsertManyResult at 0x173a4a14bc8>"
      ]
     },
     "execution_count": 47,
     "metadata": {},
     "output_type": "execute_result"
    }
   ],
   "source": [
    "c.drop()\n",
    "c.insert_many([{'x':  5}, {'x': 15}, {'x': 25}, {'x': [5, 25]}])"
   ]
  },
  {
   "cell_type": "code",
   "execution_count": 49,
   "metadata": {
    "collapsed": false
   },
   "outputs": [
    {
     "name": "stdout",
     "output_type": "stream",
     "text": [
      "{'_id': ObjectId('5f42c79c99317f50e7fb4be9'), 'x': 15}\n",
      "{'_id': ObjectId('5f42c79c99317f50e7fb4beb'), 'x': [5, 25]}\n"
     ]
    }
   ],
   "source": [
    "# 假设我们需要查询 [10, 20] 区间内的记录\n",
    "result = c.find({'x': {'$gt': 10, '$lt': 20}})\n",
    "for data in result:\n",
    "    print(data)"
   ]
  },
  {
   "cell_type": "code",
   "execution_count": 53,
   "metadata": {
    "collapsed": true
   },
   "outputs": [],
   "source": [
    "# 我们可以使用 $elemMatch 来不匹配数组元素\n",
    "result = c.find({'x': {'$elemMatch': {'$gt': 10, '$lt': 20}}})\n",
    "for data in result:\n",
    "    print(data)"
   ]
  },
  {
   "cell_type": "code",
   "execution_count": 52,
   "metadata": {
    "collapsed": false
   },
   "outputs": [
    {
     "name": "stdout",
     "output_type": "stream",
     "text": [
      "{'_id': ObjectId('5f42c79c99317f50e7fb4be9'), 'x': 15}\n"
     ]
    },
    {
     "name": "stderr",
     "output_type": "stream",
     "text": [
      "c:\\users\\907932\\appdata\\local\\programs\\python\\python37\\lib\\site-packages\\ipykernel_launcher.py:6: DeprecationWarning: using a min/max query operator without specifying a Cursor.hint is deprecated. A hint will be required when using min/max in PyMongo 4.0\n",
      "  \n"
     ]
    }
   ],
   "source": [
    "# 通过添加 $elemMatch 可以剔除 [5, 25] 这一记录，但正确的查询结果 {'x': 15} 却不能匹配\n",
    "# 我们将使用 min() 以及 max() 方法\n",
    "# 为使用者两个方法，我们需要先给 c 集合的 x 字段建立索引\n",
    "c.create_index('x')\n",
    "result = c.find({'x': {'$gt': 10, '$lt': 20}}).min([('x', 10)]).max([('x', 20)])\n",
    "for data in result:\n",
    "    print(data)"
   ]
  },
  {
   "cell_type": "markdown",
   "metadata": {},
   "source": [
    "### 7.where 查询\n",
    "针对一些比较复杂的查询，我们可以使用 where 。然而，由于 $where 可以在查询中执行任意的 Javascript，因此可能会产生出一些不安全的操作，因此，在实际生产环境中，竟可能的不用或者禁用 where。以下代码演示 where 的基本用法："
   ]
  },
  {
   "cell_type": "code",
   "execution_count": 55,
   "metadata": {
    "collapsed": false
   },
   "outputs": [
    {
     "data": {
      "text/plain": [
       "<pymongo.results.InsertOneResult at 0x173a497d788>"
      ]
     },
     "execution_count": 55,
     "metadata": {},
     "output_type": "execute_result"
    }
   ],
   "source": [
    "foo = test_database.foo\n",
    "# 向 foo 集合中添加两条文档记录\n",
    "foo.insert_one({'apple': 1, 'banana': 6, 'peach': 3})\n",
    "foo.insert_one({'apple': 8, 'spinach': 4, 'watermelon': 4})"
   ]
  },
  {
   "cell_type": "code",
   "execution_count": null,
   "metadata": {
    "collapsed": true
   },
   "outputs": [],
   "source": []
  },
  {
   "cell_type": "code",
   "execution_count": null,
   "metadata": {
    "collapsed": true
   },
   "outputs": [],
   "source": []
  },
  {
   "cell_type": "code",
   "execution_count": null,
   "metadata": {
    "collapsed": true
   },
   "outputs": [],
   "source": []
  },
  {
   "cell_type": "code",
   "execution_count": null,
   "metadata": {
    "collapsed": true
   },
   "outputs": [],
   "source": []
  },
  {
   "cell_type": "code",
   "execution_count": null,
   "metadata": {
    "collapsed": true
   },
   "outputs": [],
   "source": []
  },
  {
   "cell_type": "code",
   "execution_count": null,
   "metadata": {
    "collapsed": true
   },
   "outputs": [],
   "source": []
  },
  {
   "cell_type": "code",
   "execution_count": null,
   "metadata": {
    "collapsed": true
   },
   "outputs": [],
   "source": []
  },
  {
   "cell_type": "code",
   "execution_count": null,
   "metadata": {
    "collapsed": true
   },
   "outputs": [],
   "source": []
  }
 ],
 "metadata": {
  "kernelspec": {
   "display_name": "Python 3",
   "language": "python",
   "name": "python3"
  },
  "language_info": {
   "codemirror_mode": {
    "name": "ipython",
    "version": 3
   },
   "file_extension": ".py",
   "mimetype": "text/x-python",
   "name": "python",
   "nbconvert_exporter": "python",
   "pygments_lexer": "ipython3",
   "version": "3.7.1"
  }
 },
 "nbformat": 4,
 "nbformat_minor": 2
}
